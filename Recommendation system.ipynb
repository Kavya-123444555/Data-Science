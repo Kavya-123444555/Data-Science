{
 "cells": [
  {
   "cell_type": "code",
   "execution_count": 1,
   "id": "5e02f3a4",
   "metadata": {},
   "outputs": [
    {
     "name": "stderr",
     "output_type": "stream",
     "text": [
      "C:\\Users\\OM\\AppData\\Roaming\\Python\\Python311\\site-packages\\pandas\\core\\arrays\\masked.py:60: UserWarning: Pandas requires version '1.3.6' or newer of 'bottleneck' (version '1.3.5' currently installed).\n",
      "  from pandas.core import (\n"
     ]
    }
   ],
   "source": [
    "import pandas as pd\n",
    "import numpy as np\n",
    "from sklearn.metrics.pairwise import cosine_similarity\n",
    "from sklearn.model_selection import train_test_split\n",
    "from sklearn.metrics import precision_score, recall_score, f1_score\n",
    "from sklearn.preprocessing import MultiLabelBinarizer, StandardScaler"
   ]
  },
  {
   "cell_type": "code",
   "execution_count": 2,
   "id": "d4d7db67",
   "metadata": {},
   "outputs": [
    {
     "name": "stdout",
     "output_type": "stream",
     "text": [
      "       anime_id                                               name  \\\n",
      "0         32281                                     Kimi no Na wa.   \n",
      "1          5114                   Fullmetal Alchemist: Brotherhood   \n",
      "2         28977                                           Gintama°   \n",
      "3          9253                                        Steins;Gate   \n",
      "4          9969                                      Gintama&#039;   \n",
      "...         ...                                                ...   \n",
      "12289      9316       Toushindai My Lover: Minami tai Mecha-Minami   \n",
      "12290      5543                                        Under World   \n",
      "12291      5621                     Violence Gekiga David no Hoshi   \n",
      "12292      6133  Violence Gekiga Shin David no Hoshi: Inma Dens...   \n",
      "12293     26081                   Yasuji no Pornorama: Yacchimae!!   \n",
      "\n",
      "                                                   genre   type episodes  \\\n",
      "0                   Drama, Romance, School, Supernatural  Movie        1   \n",
      "1      Action, Adventure, Drama, Fantasy, Magic, Mili...     TV       64   \n",
      "2      Action, Comedy, Historical, Parody, Samurai, S...     TV       51   \n",
      "3                                       Sci-Fi, Thriller     TV       24   \n",
      "4      Action, Comedy, Historical, Parody, Samurai, S...     TV       51   \n",
      "...                                                  ...    ...      ...   \n",
      "12289                                             Hentai    OVA        1   \n",
      "12290                                             Hentai    OVA        1   \n",
      "12291                                             Hentai    OVA        4   \n",
      "12292                                             Hentai    OVA        1   \n",
      "12293                                             Hentai  Movie        1   \n",
      "\n",
      "       rating  members  \n",
      "0        9.37   200630  \n",
      "1        9.26   793665  \n",
      "2        9.25   114262  \n",
      "3        9.17   673572  \n",
      "4        9.16   151266  \n",
      "...       ...      ...  \n",
      "12289    4.15      211  \n",
      "12290    4.28      183  \n",
      "12291    4.88      219  \n",
      "12292    4.98      175  \n",
      "12293    5.46      142  \n",
      "\n",
      "[12294 rows x 7 columns]\n"
     ]
    }
   ],
   "source": [
    "# Load the dataset\n",
    "anime_df = pd.read_csv(r\"D:\\Recommendation System\\anime.csv\")\n",
    "print(anime_df)"
   ]
  },
  {
   "cell_type": "code",
   "execution_count": 3,
   "id": "1525b3eb",
   "metadata": {},
   "outputs": [
    {
     "name": "stderr",
     "output_type": "stream",
     "text": [
      "C:\\Users\\OM\\AppData\\Local\\Temp\\ipykernel_13300\\1358463938.py:4: FutureWarning: A value is trying to be set on a copy of a DataFrame or Series through chained assignment using an inplace method.\n",
      "The behavior will change in pandas 3.0. This inplace method will never work because the intermediate object on which we are setting values always behaves as a copy.\n",
      "\n",
      "For example, when doing 'df[col].method(value, inplace=True)', try using 'df.method({col: value}, inplace=True)' or df[col] = df[col].method(value) instead, to perform the operation inplace on the original object.\n",
      "\n",
      "\n",
      "  anime_df['genre'].fillna('Unknown', inplace=True)\n",
      "C:\\Users\\OM\\AppData\\Local\\Temp\\ipykernel_13300\\1358463938.py:5: FutureWarning: A value is trying to be set on a copy of a DataFrame or Series through chained assignment using an inplace method.\n",
      "The behavior will change in pandas 3.0. This inplace method will never work because the intermediate object on which we are setting values always behaves as a copy.\n",
      "\n",
      "For example, when doing 'df[col].method(value, inplace=True)', try using 'df.method({col: value}, inplace=True)' or df[col] = df[col].method(value) instead, to perform the operation inplace on the original object.\n",
      "\n",
      "\n",
      "  anime_df['type'].fillna('Unknown', inplace=True)\n",
      "C:\\Users\\OM\\AppData\\Local\\Temp\\ipykernel_13300\\1358463938.py:6: FutureWarning: A value is trying to be set on a copy of a DataFrame or Series through chained assignment using an inplace method.\n",
      "The behavior will change in pandas 3.0. This inplace method will never work because the intermediate object on which we are setting values always behaves as a copy.\n",
      "\n",
      "For example, when doing 'df[col].method(value, inplace=True)', try using 'df.method({col: value}, inplace=True)' or df[col] = df[col].method(value) instead, to perform the operation inplace on the original object.\n",
      "\n",
      "\n",
      "  anime_df['rating'].fillna(anime_df['rating'].mean(), inplace=True)\n"
     ]
    }
   ],
   "source": [
    "# Data Preprocessing\n",
    "\n",
    "# Handle missing values by filling them or dropping\n",
    "anime_df['genre'].fillna('Unknown', inplace=True)\n",
    "anime_df['type'].fillna('Unknown', inplace=True)\n",
    "anime_df['rating'].fillna(anime_df['rating'].mean(), inplace=True)"
   ]
  },
  {
   "cell_type": "code",
   "execution_count": 21,
   "id": "f8fbbd3f",
   "metadata": {},
   "outputs": [
    {
     "name": "stdout",
     "output_type": "stream",
     "text": [
      "0                   [Drama, Romance, School, Supernatural]\n",
      "1        [Action, Adventure, Drama, Fantasy, Magic, Mil...\n",
      "2        [Action, Comedy, Historical, Parody, Samurai, ...\n",
      "3                                       [Sci-Fi, Thriller]\n",
      "4        [Action, Comedy, Historical, Parody, Samurai, ...\n",
      "                               ...                        \n",
      "12289                                             [Hentai]\n",
      "12290                                             [Hentai]\n",
      "12291                                             [Hentai]\n",
      "12292                                             [Hentai]\n",
      "12293                                             [Hentai]\n",
      "Name: genre, Length: 12294, dtype: object\n",
      "MultiLabelBinarizer()\n",
      "[[0 0 0 ... 0 0 0]\n",
      " [1 1 0 ... 0 0 0]\n",
      " [1 0 0 ... 0 0 0]\n",
      " ...\n",
      " [0 0 0 ... 0 0 0]\n",
      " [0 0 0 ... 0 0 0]\n",
      " [0 0 0 ... 0 0 0]]\n"
     ]
    }
   ],
   "source": [
    "# Ensure each genre entry is a string before splitting it into a list\n",
    "anime_df['genre'] = anime_df['genre'].apply(lambda x: x if isinstance(x, list) else str(x).split(', '))\n",
    "\n",
    "# Convert genres into a one-hot encoding (multi-label binarization)\n",
    "mlb = MultiLabelBinarizer()\n",
    "genre_encoded = mlb.fit_transform(anime_df['genre'])\n",
    "print(anime_df['genre'])\n",
    "print(mlb)\n",
    "print(genre_encoded)"
   ]
  },
  {
   "cell_type": "code",
   "execution_count": 14,
   "id": "b25618a1",
   "metadata": {},
   "outputs": [
    {
     "name": "stdout",
     "output_type": "stream",
     "text": [
      "[[ 2.84753513  3.33024137]\n",
      " [ 2.73937967 14.14840622]\n",
      " [ 2.72954735  1.75471335]\n",
      " ...\n",
      " [-1.56717438 -0.32566298]\n",
      " [-1.46885123 -0.32646563]\n",
      " [-0.9969001  -0.32706762]]\n",
      "StandardScaler()\n"
     ]
    }
   ],
   "source": [
    "# Normalize numerical features: rating and members\n",
    "scaler = StandardScaler()\n",
    "rating_scaled = scaler.fit_transform(anime_df[['rating', 'members']])\n",
    "print(rating_scaled)\n",
    "print(scaler)"
   ]
  },
  {
   "cell_type": "code",
   "execution_count": 22,
   "id": "cc78cec4",
   "metadata": {},
   "outputs": [
    {
     "name": "stdout",
     "output_type": "stream",
     "text": [
      "[[ 0.          0.          0.         ...  0.          2.84753513\n",
      "   3.33024137]\n",
      " [ 1.          1.          0.         ...  0.          2.73937967\n",
      "  14.14840622]\n",
      " [ 1.          0.          0.         ...  0.          2.72954735\n",
      "   1.75471335]\n",
      " ...\n",
      " [ 0.          0.          0.         ...  0.         -1.56717438\n",
      "  -0.32566298]\n",
      " [ 0.          0.          0.         ...  0.         -1.46885123\n",
      "  -0.32646563]\n",
      " [ 0.          0.          0.         ...  0.         -0.9969001\n",
      "  -0.32706762]]\n"
     ]
    }
   ],
   "source": [
    "# Combine the genre and rating features\n",
    "features = np.hstack([genre_encoded, rating_scaled])\n",
    "print(features)"
   ]
  },
  {
   "cell_type": "code",
   "execution_count": 32,
   "id": "1f81910e",
   "metadata": {},
   "outputs": [],
   "source": [
    "def recommend_anime(anime_name, anime_df, features, threshold=0.5):\n",
    "    # Find the index of the anime\n",
    "    anime_idx = anime_df[anime_df['name'] == anime_name].index[0]\n",
    "    \n",
    "    # Compute cosine similarity between the target anime and all others\n",
    "    similarity_scores = cosine_similarity([features[anime_idx]], features)[0]\n",
    "    \n",
    "    # Get indices of anime with similarity scores above the threshold\n",
    "    similar_indices = np.where(similarity_scores > threshold)[0]\n",
    "    \n",
    "    # Sort these indices based on similarity scores (excluding the first one since it's the anime itself)\n",
    "    similar_indices = similar_indices[similar_indices != anime_idx]\n",
    "    sorted_indices = similar_indices[np.argsort(similarity_scores[similar_indices])[::-1]]\n",
    "    \n",
    "    # Recommend these anime\n",
    "    return anime_df.iloc[sorted_indices][['name', 'genre', 'rating']]\n"
   ]
  },
  {
   "cell_type": "code",
   "execution_count": 33,
   "id": "34dc5095",
   "metadata": {},
   "outputs": [
    {
     "name": "stdout",
     "output_type": "stream",
     "text": [
      "                                                   name  \\\n",
      "504   Clannad: After Story - Mou Hitotsu no Sekai, K...   \n",
      "60                                   Hotarubi no Mori e   \n",
      "1201                     Angel Beats!: Another Epilogue   \n",
      "219   Yahari Ore no Seishun Love Comedy wa Machigatt...   \n",
      "337                                        Kanon (2006)   \n",
      "...                                                 ...   \n",
      "770                         One Punch Man: Road to Hero   \n",
      "3192                                        Zombie-Loan   \n",
      "3560  Naruto Movie 3: Dai Koufun! Mikazuki Jima no A...   \n",
      "9                              Gintama&#039;: Enchousen   \n",
      "869                               Inu x Boku SS Special   \n",
      "\n",
      "                                                  genre  rating  \n",
      "504                            [Drama, Romance, School]    8.02  \n",
      "60               [Drama, Romance, Shoujo, Supernatural]    8.61  \n",
      "1201                      [Drama, School, Supernatural]    7.63  \n",
      "219                    [Comedy, Drama, Romance, School]    8.31  \n",
      "337       [Drama, Romance, Slice of Life, Supernatural]    8.17  \n",
      "...                                                 ...     ...  \n",
      "770   [Action, Comedy, Parody, Sci-Fi, Seinen, Super...    7.85  \n",
      "3192            [Action, Horror, Shounen, Supernatural]    7.06  \n",
      "3560                                [Action, Adventure]    6.95  \n",
      "9     [Action, Comedy, Historical, Parody, Samurai, ...    9.11  \n",
      "869                     [Comedy, Shounen, Supernatural]    7.79  \n",
      "\n",
      "[832 rows x 3 columns]\n"
     ]
    }
   ],
   "source": [
    "# Example of recommendation\n",
    "recommendations = recommend_anime('Kimi no Na wa.', anime_df, features, threshold=0.6)\n",
    "print(recommendations)"
   ]
  },
  {
   "cell_type": "code",
   "execution_count": 34,
   "id": "53bbe033",
   "metadata": {},
   "outputs": [],
   "source": [
    "# Evaluation\n",
    "\n",
    "# Since this is a recommendation system, evaluation metrics are different. We simulate a train-test split.\n",
    "train_df, test_df, train_features, test_features = train_test_split(anime_df, features, test_size=0.2, random_state=42)"
   ]
  },
  {
   "cell_type": "code",
   "execution_count": 43,
   "id": "24eafa0a",
   "metadata": {},
   "outputs": [],
   "source": [
    "def evaluate_recommendations(test_df, test_features, train_df, train_features, threshold=0.5):\n",
    "    y_true = []\n",
    "    y_pred = []\n",
    "    \n",
    "    for idx in range(len(test_df)):\n",
    "        anime_name = test_df.iloc[idx]['name']\n",
    "        # Consider the anime in the test set as the ground truth relevant item\n",
    "        y_true.append(1)\n",
    "        \n",
    "        # Generate recommendations from the training set\n",
    "        recommendations = recommend_anime(anime_name, train_df, train_features, threshold=threshold)\n",
    "        \n",
    "        # Check if the anime was recommended (this is a simplification)\n",
    "        if any(test_df.iloc[idx]['name'] == rec for rec in recommendations['name']):\n",
    "            y_pred.append(1)\n",
    "        else:\n",
    "            y_pred.append(0)\n",
    "    \n",
    "    precision = precision_score(y_true, y_pred, average='binary')\n",
    "    recall = recall_score(y_true, y_pred, average='binary')\n",
    "    f1 = f1_score(y_true, y_pred, average='binary')\n",
    "    \n",
    "    return precision, recall, f1\n"
   ]
  },
  {
   "cell_type": "code",
   "execution_count": 48,
   "id": "f9170d43",
   "metadata": {},
   "outputs": [
    {
     "name": "stdout",
     "output_type": "stream",
     "text": [
      "6329\n"
     ]
    }
   ],
   "source": [
    "anime_idx = anime_df[anime_df['name'] == anime_name].index[0]\n",
    "print(anime_idx)"
   ]
  },
  {
   "cell_type": "code",
   "execution_count": 49,
   "id": "f0011716",
   "metadata": {},
   "outputs": [],
   "source": [
    "def recommend_anime(anime_name, anime_df, features, threshold=0.5):\n",
    "    # Find the index of the anime\n",
    "    matching_anime = anime_df[anime_df['name'] == anime_name]\n",
    "    \n",
    "    if matching_anime.empty:\n",
    "        raise ValueError(f\"Anime '{anime_name}' not found in the dataset.\")\n",
    "    \n",
    "    anime_idx = matching_anime.index[0]\n",
    "    \n",
    "    # Compute cosine similarity between the target anime and all others\n",
    "    similarity_scores = cosine_similarity([features[anime_idx]], features)[0]\n",
    "    \n",
    "    # Continue with the recommendation logic...\n"
   ]
  },
  {
   "cell_type": "code",
   "execution_count": 50,
   "id": "06658c88",
   "metadata": {},
   "outputs": [],
   "source": [
    "from sklearn.metrics import precision_score, recall_score, f1_score\n",
    "\n",
    "def evaluate_recommendations(test_df, test_features, train_df, train_features, threshold=0.6):\n",
    "    y_true = []\n",
    "    y_pred = []\n",
    "    \n",
    "    for idx, row in test_df.iterrows():\n",
    "        anime_name = row['name']\n",
    "        \n",
    "        # True label (we assume the anime is relevant to itself)\n",
    "        y_true.append(1)\n",
    "        \n",
    "        try:\n",
    "            # Generate recommendations from the training set\n",
    "            recommendations = recommend_anime(anime_name, train_df, train_features, threshold=threshold)\n",
    "            \n",
    "            # Check if the anime was recommended (this is a simplification)\n",
    "            is_recommended = any(test_df.iloc[idx]['name'] == rec for rec in recommendations['name'])\n",
    "            y_pred.append(1 if is_recommended else 0)\n",
    "        \n",
    "        except ValueError:\n",
    "            # If the anime is not found in the dataset, we consider it not recommended\n",
    "            y_pred.append(0)\n",
    "    \n",
    "    # Calculate precision, recall, and F1-score\n",
    "    precision = precision_score(y_true, y_pred)\n",
    "    recall = recall_score(y_true, y_pred)\n",
    "    f1 = f1_score(y_true, y_pred)\n",
    "    \n",
    "    return precision, recall, f1\n"
   ]
  }
 ],
 "metadata": {
  "kernelspec": {
   "display_name": "Python 3 (ipykernel)",
   "language": "python",
   "name": "python3"
  },
  "language_info": {
   "codemirror_mode": {
    "name": "ipython",
    "version": 3
   },
   "file_extension": ".py",
   "mimetype": "text/x-python",
   "name": "python",
   "nbconvert_exporter": "python",
   "pygments_lexer": "ipython3",
   "version": "3.11.5"
  }
 },
 "nbformat": 4,
 "nbformat_minor": 5
}
