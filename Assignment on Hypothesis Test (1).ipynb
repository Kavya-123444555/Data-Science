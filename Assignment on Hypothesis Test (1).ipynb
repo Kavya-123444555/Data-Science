{
 "cells": [
  {
   "cell_type": "markdown",
   "id": "626f9f57",
   "metadata": {},
   "source": [
    "### Chisquare Test"
   ]
  },
  {
   "cell_type": "code",
   "execution_count": null,
   "id": "fdcbcbaa",
   "metadata": {},
   "outputs": [],
   "source": [
    "Association between Device Type and Customer Satisfaction Background:Mizzare Corporation has collected data on customer satisfaction levels for two types \n",
    "of smart home devices: Smart Thermostats and Smart Lights. They want to determine if there's a significant association between the type of device purchased\n",
    "and the customer's satisfaction level.Data Provided:The data is summarized in a contingency table showing the counts of customers in each satisfaction level\n",
    "for both types of devices:Satisfaction\tSmart Thermostat\tSmart Light\tTotal Very Satisfied 50 70 120 Satisfied 80 100 180Neutral 60 90 150 Unsatisfied 30 \n",
    "50 80 Very Unsatisfied 20 50 70 Total 240 360 600 Objective:To use the Chi-Square test for independence to determine if there's a significant association \n",
    "between the type of smart home device purchased (Smart Thermostats vs. Smart Lights) and the customer satisfaction level.Assignment Tasks:\n",
    "\n",
    "1. State the Hypotheses:\n",
    "2. Compute the Chi-Square Statistic:\n",
    "3. Determine the Critical Value:Using the significance level (alpha) of 0.05 and the degrees of freedom (which is the number of categories minus 1)\n",
    "4. Make a Decision:Compare the Chi-Square statistic with the critical value to decide whether to reject the null hypothesis.\n"
   ]
  },
  {
   "cell_type": "markdown",
   "id": "190a07ea",
   "metadata": {},
   "source": [
    "## 1. Build a 99% Confidence Interval Using Sample Standard Deviation for the print-head data."
   ]
  },
  {
   "cell_type": "code",
   "execution_count": 1,
   "id": "f5ccc220",
   "metadata": {},
   "outputs": [
    {
     "name": "stderr",
     "output_type": "stream",
     "text": [
      "C:\\Users\\OM\\AppData\\Roaming\\Python\\Python311\\site-packages\\pandas\\core\\arrays\\masked.py:60: UserWarning: Pandas requires version '1.3.6' or newer of 'bottleneck' (version '1.3.5' currently installed).\n",
      "  from pandas.core import (\n"
     ]
    }
   ],
   "source": [
    "import numpy as np\n",
    "import pandas as pd\n",
    "from scipy.stats import chi2_contingency, chi2"
   ]
  },
  {
   "cell_type": "code",
   "execution_count": 2,
   "id": "4a685856",
   "metadata": {},
   "outputs": [
    {
     "name": "stdout",
     "output_type": "stream",
     "text": [
      "Contingency Table:\n",
      "                  Smart Thermostat  Smart Light\n",
      "Satisfaction                                   \n",
      "Very Satisfied                  50           70\n",
      "Satisfied                       80          100\n",
      "Neutral                         60           90\n",
      "Unsatisfied                     30           50\n",
      "Very Unsatisfied                20           50\n"
     ]
    }
   ],
   "source": [
    "# 1. State the Hypotheses:\n",
    "# H0: There is no significant association between the type of device purchased and the customer's satisfaction level.\n",
    "# H1: There is a significant association between the type of device purchased and the customer's satisfaction level.\n",
    "\n",
    "# Data Provided\n",
    "data = {\n",
    "    \"Satisfaction\": [\"Very Satisfied\", \"Satisfied\", \"Neutral\", \"Unsatisfied\", \"Very Unsatisfied\"],\n",
    "    \"Smart Thermostat\": [50, 80, 60, 30, 20],\n",
    "    \"Smart Light\": [70, 100, 90, 50, 50]\n",
    "}\n",
    "\n",
    "# Creating the contingency table\n",
    "df = pd.DataFrame(data)\n",
    "df.set_index(\"Satisfaction\", inplace=True)\n",
    "print(\"Contingency Table:\")\n",
    "print(df)"
   ]
  },
  {
   "cell_type": "code",
   "execution_count": 3,
   "id": "b9c20a9f",
   "metadata": {},
   "outputs": [
    {
     "name": "stdout",
     "output_type": "stream",
     "text": [
      "\n",
      "Chi-Square Test Results:\n",
      "Chi-Square Statistic: 5.638227513227513\n",
      "p-value: 0.22784371130697179\n",
      "Degrees of Freedom: 4\n",
      "Expected Frequencies:\n",
      "                  Smart Thermostat  Smart Light\n",
      "Satisfaction                                   \n",
      "Very Satisfied                48.0         72.0\n",
      "Satisfied                     72.0        108.0\n",
      "Neutral                       60.0         90.0\n",
      "Unsatisfied                   32.0         48.0\n",
      "Very Unsatisfied              28.0         42.0\n"
     ]
    }
   ],
   "source": [
    "# 2. Compute the Chi-Square Statistic:\n",
    "chi2_stat, p, dof, expected = chi2_contingency(df)\n",
    "\n",
    "print(\"\\nChi-Square Test Results:\")\n",
    "print(f\"Chi-Square Statistic: {chi2_stat}\")\n",
    "print(f\"p-value: {p}\")\n",
    "print(f\"Degrees of Freedom: {dof}\")\n",
    "print(\"Expected Frequencies:\")\n",
    "print(pd.DataFrame(expected, index=df.index, columns=df.columns))"
   ]
  },
  {
   "cell_type": "code",
   "execution_count": 4,
   "id": "2054d875",
   "metadata": {},
   "outputs": [
    {
     "name": "stdout",
     "output_type": "stream",
     "text": [
      "\n",
      "Critical Value (alpha = 0.05): 9.487729036781154\n"
     ]
    }
   ],
   "source": [
    "# 3. Determine the Critical Value:\n",
    "alpha = 0.05\n",
    "critical_value = chi2.ppf(1 - alpha, dof)\n",
    "print(f\"\\nCritical Value (alpha = {alpha}): {critical_value}\")"
   ]
  },
  {
   "cell_type": "code",
   "execution_count": 5,
   "id": "122ac0eb",
   "metadata": {},
   "outputs": [
    {
     "name": "stdout",
     "output_type": "stream",
     "text": [
      "\n",
      "Decision:\n",
      "Fail to reject the null hypothesis. There is no significant association between the type of device purchased and customer satisfaction.\n"
     ]
    }
   ],
   "source": [
    "# 4. Make a Decision:\n",
    "if chi2_stat > critical_value:\n",
    "    decision = \"Reject the null hypothesis. There is a significant association between the type of device purchased and customer satisfaction.\"\n",
    "else:\n",
    "    decision = \"Fail to reject the null hypothesis. There is no significant association between the type of device purchased and customer satisfaction.\"\n",
    "\n",
    "print(\"\\nDecision:\")\n",
    "print(decision)\n"
   ]
  },
  {
   "cell_type": "code",
   "execution_count": null,
   "id": "7b934d4e",
   "metadata": {},
   "outputs": [],
   "source": [
    "#### The detailed report as a summary\n",
    "#Summary Report:\n",
    "\n",
    "    Association between Device Type and Customer Satisfaction\n",
    "\n",
    "    Hypotheses:\n",
    "    - Null Hypothesis (H0): There is no significant association between the type of device purchased and the customer's satisfaction level.\n",
    "    - Alternative Hypothesis (H1): There is a significant association between the type of device purchased and the customer's satisfaction level.\n",
    "\n",
    "    Contingency Table:\n",
    "                      Smart Thermostat  Smart Light\n",
    "Satisfaction                                   \n",
    "Very Satisfied                  50           70\n",
    "Satisfied                       80          100\n",
    "Neutral                         60           90\n",
    "Unsatisfied                     30           50\n",
    "Very Unsatisfied                20           50\n",
    "\n",
    "    Chi-Square Test Results:\n",
    "    - Chi-Square Statistic: 5.638227513227513\n",
    "    - p-value: 0.22784371130697179\n",
    "    - Degrees of Freedom: 4\n",
    "    - Expected Frequencies:\n",
    "                      Smart Thermostat  Smart Light\n",
    "Satisfaction                                   \n",
    "Very Satisfied                48.0         72.0\n",
    "Satisfied                     72.0        108.0\n",
    "Neutral                       60.0         90.0\n",
    "Unsatisfied                   32.0         48.0\n",
    "Very Unsatisfied              28.0         42.0\n",
    "\n",
    "    Critical Value (alpha = 0.05): 9.487729036781154\n",
    "\n",
    "    Conclusion:\n",
    "    Fail to reject the null hypothesis. There is no significant association between the type of device purchased and customer satisfaction.\n",
    "    "
   ]
  },
  {
   "cell_type": "markdown",
   "id": "5bdc0261",
   "metadata": {},
   "source": [
    "### Hypothesis Test"
   ]
  },
  {
   "cell_type": "code",
   "execution_count": null,
   "id": "d73f2f23",
   "metadata": {},
   "outputs": [],
   "source": [
    "Background:Bombay hospitality Ltd. operates a franchise model for producing exotic Norwegian dinners throughout New England. The operating cost\n",
    "for a franchise in a week (W) is given by the equation W = $1,000 + $5X, where X represents the number of units produced in a week. Recent \n",
    "feedback from restaurant owners suggests that this cost model may no longer be accurate, as their observed weekly operating costs are higher.\n",
    "Objective:To investigate the restaurant owners' claim about the increase in weekly operating costs using hypothesis testing.Data Provided:\n",
    "The theoretical weekly operating cost model: W = $1,000 + $5X • Sample of 25 restaurants with a mean weekly cost of Rs. 3,050 • Number of units\n",
    "produced in a week (X) follows a normal distribution with a mean (μ) of 600 units and a standard deviation (σ) of 25 units\n",
    "\n",
    "Assignment Tasks:\n",
    "1. State the Hypotheses statement:\n",
    "2. Calculate the Test Statistic:Use the following formula to calculate the test statistic (t):where:• ˉxˉ = sample mean weekly cost (Rs. 3,050)\n",
    "• μ = theoretical mean weekly cost according to the cost model (W = $1,000 + $5X for X = 600 units) • σ = 5*25 units • n = sample size (25 restaurants)\n",
    "3. Determine the Critical Value:Using the alpha level of 5% (α = 0.05), determine the critical value from the standard normal (Z) distribution table.\n",
    "4. Make a Decision:Compare the test statistic with the critical value to decide whether to reject the null hypothesis.\n",
    "5. Conclusion:Based on the decision in step 4, conclude whether there is strong evidence to support the restaurant owners' claim that the weekly \n",
    "operating costs are higher than the model suggests.\n",
    "\n",
    "Submission Guidelines:\n",
    "• Prepare python file detailing each step of your hypothesis testing process.\n",
    "• Include calculations for the test statistic and the critical value.\n",
    "• Provide a clear conclusion based on your analysis.\n",
    "\n"
   ]
  },
  {
   "cell_type": "code",
   "execution_count": 6,
   "id": "03299984",
   "metadata": {},
   "outputs": [],
   "source": [
    "import numpy as np\n",
    "from scipy.stats import norm"
   ]
  },
  {
   "cell_type": "code",
   "execution_count": 8,
   "id": "172858c7",
   "metadata": {},
   "outputs": [
    {
     "name": "stdout",
     "output_type": "stream",
     "text": [
      "Test Statistic: -38.0000\n",
      "Critical Value (alpha = 0.05): 1.6449\n",
      "\n",
      "Decision:\n",
      "Fail to reject the null hypothesis. There is no significant evidence to support the claim that the weekly operating costs are higher than the model suggests.\n",
      "\n",
      "Summary Report:\n",
      "\n",
      "Hypothesis Testing on Weekly Operating Costs\n",
      "\n",
      "Hypotheses:\n",
      "- Null Hypothesis (H0): The actual mean weekly operating cost is equal to the theoretical mean weekly cost (μ = 4000).\n",
      "- Alternative Hypothesis (H1): The actual mean weekly operating cost is greater than the theoretical mean weekly cost (μ > 4000).\n",
      "\n",
      "Provided Data:\n",
      "- Sample Mean Weekly Cost (ˉx): 3050\n",
      "- Theoretical Mean Weekly Cost (μ): 4000\n",
      "- Standard Deviation (σ): 125\n",
      "- Sample Size (n): 25\n",
      "\n",
      "Calculations:\n",
      "- Test Statistic (t): -38.0000\n",
      "- Critical Value (alpha = 0.05): 1.6449\n",
      "\n",
      "Conclusion:\n",
      "Fail to reject the null hypothesis. There is no significant evidence to support the claim that the weekly operating costs are higher than the model suggests.\n",
      "\n"
     ]
    }
   ],
   "source": [
    "# Data Provided\n",
    "sample_mean = 3050\n",
    "X_mean = 600  # Mean number of units produced\n",
    "X_std = 25    # Standard deviation of units produced\n",
    "n = 25        # Sample size\n",
    "\n",
    "# Calculate the theoretical mean weekly cost\n",
    "mu = 1000 + 5 * X_mean  # Theoretical mean weekly cost\n",
    "sigma = 5 * X_std       # Standard deviation of weekly cost\n",
    "\n",
    "# 2. Calculate the Test Statistic:\n",
    "# Test Statistic (t) = (ˉx - μ) / (σ / sqrt(n))\n",
    "t_statistic = (sample_mean - mu) / (sigma / np.sqrt(n))\n",
    "print(f\"Test Statistic: {t_statistic:.4f}\")\n",
    "\n",
    "# 3. Determine the Critical Value:\n",
    "# Using a one-tailed test with alpha = 0.05\n",
    "alpha = 0.05\n",
    "critical_value = norm.ppf(1 - alpha)\n",
    "print(f\"Critical Value (alpha = {alpha}): {critical_value:.4f}\")\n",
    "\n",
    "# 4. Make a Decision:\n",
    "if t_statistic > critical_value:\n",
    "    decision = \"Reject the null hypothesis. There is significant evidence to support the claim that the weekly operating costs are higher than the model suggests.\"\n",
    "else:\n",
    "    decision = \"Fail to reject the null hypothesis. There is no significant evidence to support the claim that the weekly operating costs are higher than the model suggests.\"\n",
    "\n",
    "print(\"\\nDecision:\")\n",
    "print(decision)\n",
    "\n",
    "# The detailed report as a summary\n",
    "def hypothesis_test_summary():\n",
    "    summary = f\"\"\"\n",
    "Hypothesis Testing on Weekly Operating Costs\n",
    "\n",
    "Hypotheses:\n",
    "- Null Hypothesis (H0): The actual mean weekly operating cost is equal to the theoretical mean weekly cost (μ = {mu}).\n",
    "- Alternative Hypothesis (H1): The actual mean weekly operating cost is greater than the theoretical mean weekly cost (μ > {mu}).\n",
    "\n",
    "Provided Data:\n",
    "- Sample Mean Weekly Cost (ˉx): {sample_mean}\n",
    "- Theoretical Mean Weekly Cost (μ): {mu}\n",
    "- Standard Deviation (σ): {sigma}\n",
    "- Sample Size (n): {n}\n",
    "\n",
    "Calculations:\n",
    "- Test Statistic (t): {t_statistic:.4f}\n",
    "- Critical Value (alpha = {alpha}): {critical_value:.4f}\n",
    "\n",
    "Conclusion:\n",
    "{decision}\n",
    "\"\"\"\n",
    "    return summary\n",
    "\n",
    "print(\"\\nSummary Report:\")\n",
    "print(hypothesis_test_summary())\n"
   ]
  },
  {
   "cell_type": "code",
   "execution_count": null,
   "id": "e77ce69c",
   "metadata": {},
   "outputs": [],
   "source": []
  }
 ],
 "metadata": {
  "kernelspec": {
   "display_name": "Python 3 (ipykernel)",
   "language": "python",
   "name": "python3"
  },
  "language_info": {
   "codemirror_mode": {
    "name": "ipython",
    "version": 3
   },
   "file_extension": ".py",
   "mimetype": "text/x-python",
   "name": "python",
   "nbconvert_exporter": "python",
   "pygments_lexer": "ipython3",
   "version": "3.11.5"
  }
 },
 "nbformat": 4,
 "nbformat_minor": 5
}
