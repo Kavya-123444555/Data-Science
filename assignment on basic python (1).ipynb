{
 "cells": [
  {
   "cell_type": "markdown",
   "id": "8ab35836",
   "metadata": {},
   "source": [
    "## Task 1\n",
    "\n",
    "## Write a python program that checks whether a given number is prime or not\n",
    "\n",
    "## A prime number is a natural number greater than 1 that has no positive divisors other than 1 and itself\n"
   ]
  },
  {
   "cell_type": "code",
   "execution_count": 1,
   "id": "3e24caa6",
   "metadata": {},
   "outputs": [
    {
     "name": "stdout",
     "output_type": "stream",
     "text": [
      "Enter the number5\n",
      "5 is a prime number\n"
     ]
    }
   ],
   "source": [
    "num=(int(input(\"Enter the number\")))\n",
    "if num > 1:\n",
    "    for i in range(2,num):\n",
    "        if(num % i)==0:\n",
    "            print(f\"{num} is not a prime number\")\n",
    "            break\n",
    "    else:\n",
    "            print(f\"{num} is a prime number\")\n",
    "else:\n",
    "            print(f\"{num} is not a prime number\")\n"
   ]
  },
  {
   "cell_type": "markdown",
   "id": "c2e45abe",
   "metadata": {},
   "source": [
    "### Task 2\n",
    "\n",
    "## Develop a Python program that generates two random numbers and asks the user to enter the products of these numbers\n",
    "\n",
    "## The program should then check if the user's answer is correct and display an appropriate message"
   ]
  },
  {
   "cell_type": "code",
   "execution_count": 2,
   "id": "b26d27dc",
   "metadata": {},
   "outputs": [
    {
     "name": "stdout",
     "output_type": "stream",
     "text": [
      "What is the product of 1 and 7? 7\n",
      "Correct!\n"
     ]
    }
   ],
   "source": [
    "import random\n",
    "\n",
    "def generate_random_numbers():\n",
    "    num1 = random.randint(1, 5)  \n",
    "    num2 = random.randint(1, 15)  \n",
    "    return num1, num2\n",
    "def main():\n",
    "    num1, num2 = generate_random_numbers()\n",
    "    product = num1 * num2\n",
    "    user_answer = int(input(f\"What is the product of {num1} and {num2}? \"))\n",
    "    if user_answer == product:\n",
    "        print(\"Correct!\")\n",
    "    else:\n",
    "        print(f\"Incorrect. The correct answer is {product}.\")\n",
    "if __name__ == \"__main__\":\n",
    "    main()\n",
    "\n"
   ]
  },
  {
   "cell_type": "markdown",
   "id": "8988d5b7",
   "metadata": {},
   "source": [
    "## Task 3\n",
    "\n",
    "## Create a Python script that prints the squares of all even or odd numbers within the range of 100 to 200\n",
    "\n",
    "## Choose either even or odd numbers and document your choice in the code"
   ]
  },
  {
   "cell_type": "code",
   "execution_count": 1,
   "id": "90a80176",
   "metadata": {},
   "outputs": [
    {
     "name": "stdout",
     "output_type": "stream",
     "text": [
      "Enter 1 to print squares of all odd numbers from 100 to 200\n",
      "Enter 2 to print squares of all even numbers from 100 to 200\n",
      "Enter your choice: 1\n",
      "Squares of all odd numbers from 100 to 200:\n",
      "101^2 = 10201\n",
      "103^2 = 10609\n",
      "105^2 = 11025\n",
      "107^2 = 11449\n",
      "109^2 = 11881\n",
      "111^2 = 12321\n",
      "113^2 = 12769\n",
      "115^2 = 13225\n",
      "117^2 = 13689\n",
      "119^2 = 14161\n",
      "121^2 = 14641\n",
      "123^2 = 15129\n",
      "125^2 = 15625\n",
      "127^2 = 16129\n",
      "129^2 = 16641\n",
      "131^2 = 17161\n",
      "133^2 = 17689\n",
      "135^2 = 18225\n",
      "137^2 = 18769\n",
      "139^2 = 19321\n",
      "141^2 = 19881\n",
      "143^2 = 20449\n",
      "145^2 = 21025\n",
      "147^2 = 21609\n",
      "149^2 = 22201\n",
      "151^2 = 22801\n",
      "153^2 = 23409\n",
      "155^2 = 24025\n",
      "157^2 = 24649\n",
      "159^2 = 25281\n",
      "161^2 = 25921\n",
      "163^2 = 26569\n",
      "165^2 = 27225\n",
      "167^2 = 27889\n",
      "169^2 = 28561\n",
      "171^2 = 29241\n",
      "173^2 = 29929\n",
      "175^2 = 30625\n",
      "177^2 = 31329\n",
      "179^2 = 32041\n",
      "181^2 = 32761\n",
      "183^2 = 33489\n",
      "185^2 = 34225\n",
      "187^2 = 34969\n",
      "189^2 = 35721\n",
      "191^2 = 36481\n",
      "193^2 = 37249\n",
      "195^2 = 38025\n",
      "197^2 = 38809\n",
      "199^2 = 39601\n"
     ]
    }
   ],
   "source": [
    "print(\"Enter 1 to print squares of all odd numbers from 100 to 200\")\n",
    "print(\"Enter 2 to print squares of all even numbers from 100 to 200\")\n",
    "choice = int(input(\"Enter your choice: \"))\n",
    "if choice == 1:\n",
    "    print(\"Squares of all odd numbers from 100 to 200:\")\n",
    "    for num in range(101, 201, 2): \n",
    "        square = num ** 2\n",
    "        print(f\"{num}^2 = {square}\")\n",
    "elif choice == 2:\n",
    "    print(\"Squares of all even numbers from 100 to 200:\")\n",
    "    for num in range(100, 201, 2):  # Start from 100 to include only even numbers\n",
    "        square = num ** 2\n",
    "        print(f\"{num}^2 = {square}\")\n",
    "else:\n",
    "    print(\"Invalid choice. Please enter either 1 or 2.\")\n",
    "\n"
   ]
  },
  {
   "cell_type": "markdown",
   "id": "1a4aa93f",
   "metadata": {},
   "source": [
    "## Task 4\n",
    "\n",
    "## write a proram to count the number of wordsin a given text"
   ]
  },
  {
   "cell_type": "code",
   "execution_count": 2,
   "id": "198bebd4",
   "metadata": {},
   "outputs": [
    {
     "name": "stdout",
     "output_type": "stream",
     "text": [
      "Enter some text: kaveri\n",
      "Enter a word to find its occurrences in the text: v\n",
      "Number of words in the text: 1\n",
      "The word 'v' appears 0 time(s) in the text.\n"
     ]
    }
   ],
   "source": [
    "def count_words(text):\n",
    "    words = text.split()\n",
    "    return len(words)\n",
    "def count_occurrences(text, word):\n",
    "        words = text.split()\n",
    "        count = words.count(word)\n",
    "        return count\n",
    "text = input(\"Enter some text: \")\n",
    "word_to_find = input(\"Enter a word to find its occurrences in the text: \")\n",
    "total_words = count_words(text)\n",
    "occurrences = count_occurrences(text, word_to_find)\n",
    "print(f\"Number of words in the text: {total_words}\")\n",
    "print(f\"The word '{word_to_find}' appears {occurrences} time(s) in the text.\")\n"
   ]
  },
  {
   "cell_type": "markdown",
   "id": "9e4958e2",
   "metadata": {},
   "source": [
    "## Task 5\n",
    "\n",
    "## Check for palindrome"
   ]
  },
  {
   "cell_type": "code",
   "execution_count": 3,
   "id": "d0465326",
   "metadata": {},
   "outputs": [
    {
     "name": "stdout",
     "output_type": "stream",
     "text": [
      "Enter a string: 323\n",
      "'323' is a palindrome.\n"
     ]
    }
   ],
   "source": [
    "def is_palindrome(s):\n",
    "    s = s.replace(\" \", \" \").lower()\n",
    "    return s == s[::-1]\n",
    "string = input(\"Enter a string: \")\n",
    "if is_palindrome(string):\n",
    "    print(f\"'{string}' is a palindrome.\")\n",
    "else:\n",
    "    print(f\"'{string}' is not a palindrome.\")\n"
   ]
  }
 ],
 "metadata": {
  "kernelspec": {
   "display_name": "Python 3 (ipykernel)",
   "language": "python",
   "name": "python3"
  },
  "language_info": {
   "codemirror_mode": {
    "name": "ipython",
    "version": 3
   },
   "file_extension": ".py",
   "mimetype": "text/x-python",
   "name": "python",
   "nbconvert_exporter": "python",
   "pygments_lexer": "ipython3",
   "version": "3.11.5"
  }
 },
 "nbformat": 4,
 "nbformat_minor": 5
}
